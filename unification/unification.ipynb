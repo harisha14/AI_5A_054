{
  "nbformat": 4,
  "nbformat_minor": 0,
  "metadata": {
    "colab": {
      "provenance": []
    },
    "kernelspec": {
      "name": "python3",
      "display_name": "Python 3"
    },
    "language_info": {
      "name": "python"
    }
  },
  "cells": [
    {
      "cell_type": "code",
      "execution_count": 1,
      "metadata": {
        "id": "E5KFc0K36l2l"
      },
      "outputs": [],
      "source": [
        "\n",
        "\n",
        "import re\n",
        "def getAttributes(expression):\n",
        "    expression = expression.split(\"(\")[1:]\n",
        "    expression = \"(\".join(expression) \n",
        "    expression = expression.split(\")\")[:-1]\n",
        "    expression = \")\".join(expression)\n",
        "    attributes = expression.split(',')\n",
        "    return attributes\n",
        "\n",
        "def getInitialPredicate(expression):\n",
        "    return expression.split(\"(\")[0]\n",
        "\n"
      ]
    },
    {
      "cell_type": "code",
      "source": [
        "\n",
        "\n",
        "def isConstant(char):\n",
        "    return char.isupper() and len(char) == 1\n",
        "\n",
        "def isVariable(char):\n",
        "    return char.islower() and len(char) == 1\n",
        "\n"
      ],
      "metadata": {
        "id": "cWJf2xPl6-TK"
      },
      "execution_count": 2,
      "outputs": []
    },
    {
      "cell_type": "code",
      "source": [
        "def replaceAttributes(exp, old, new):\n",
        "    attributes = getAttributes(exp)\n",
        "    predicate = getInitialPredicate(exp)\n",
        "    for index, val in enumerate(attributes):\n",
        "        if val == old:\n",
        "            attributes[index] = new\n",
        "    return predicate + \"(\" + \",\".join(attributes) + \")\"\n",
        "\n",
        "def apply(exp, substitutions):\n",
        "    for substitution in substitutions:\n",
        "        new, old = substitution  \n",
        "        exp = replaceAttributes(exp, old, new)\n",
        "    return exp"
      ],
      "metadata": {
        "id": "OTopGfnR7Imk"
      },
      "execution_count": 3,
      "outputs": []
    },
    {
      "cell_type": "code",
      "source": [
        "\n",
        "\n",
        "  def checkOccurs(var, exp):\n",
        "    if exp.find(var) == -1:\n",
        "        return False\n",
        "    return True\n",
        "\n",
        "\n",
        "def getFirstPart(expression):\n",
        "    attributes = getAttributes(expression)\n",
        "    return attributes[0]\n",
        "\n",
        "\n",
        "def getRemainingPart(expression):\n",
        "    predicate = getInitialPredicate(expression)\n",
        "    attributes = getAttributes(expression)\n",
        "    newExpression = predicate + \"(\" + \",\".join(attributes[1:]) + \")\"\n",
        "    return newExpression\n",
        "\n"
      ],
      "metadata": {
        "id": "7Few0IQy7Lvb"
      },
      "execution_count": 4,
      "outputs": []
    },
    {
      "cell_type": "code",
      "source": [
        "def unify(exp1, exp2):\n",
        "    if exp1 == exp2:\n",
        "        return []\n",
        "\n",
        "    if isConstant(exp1) and isConstant(exp2):\n",
        "        if exp1 != exp2:\n",
        "            print(f\"{exp1} and {exp2} are constants. Cannot be unified\")\n",
        "            return []\n",
        "\n",
        "    if isConstant(exp1):\n",
        "        return [(exp1, exp2)]\n",
        "\n",
        "    if isConstant(exp2):\n",
        "        return [(exp2, exp1)]\n",
        "\n",
        "    if isVariable(exp1):\n",
        "        return [(exp2, exp1)] if not checkOccurs(exp1, exp2) else []\n",
        "\n",
        "    if isVariable(exp2):\n",
        "        return [(exp1, exp2)] if not checkOccurs(exp2, exp1) else []\n",
        "\n",
        "    if getInitialPredicate(exp1) != getInitialPredicate(exp2):\n",
        "        print(\"Cannot be unified as the predicates do not match!\")\n",
        "        return []\n",
        "\n",
        "    attributeCount1 = len(getAttributes(exp1))\n",
        "    attributeCount2 = len(getAttributes(exp2))\n",
        "    if attributeCount1 != attributeCount2:\n",
        "        print(f\"Length of attributes {attributeCount1} and {attributeCount2} do not match. Cannot be unified\")\n",
        "        return []\n",
        "\n",
        "    head1 = getFirstPart(exp1)\n",
        "    head2 = getFirstPart(exp2)\n",
        "    initialSubstitution = unify(head1, head2)\n",
        "    if not initialSubstitution:\n",
        "        return []\n",
        "    if attributeCount1 == 1:\n",
        "        return initialSubstitution\n",
        "\n",
        "    tail1 = getRemainingPart(exp1)\n",
        "    tail2 = getRemainingPart(exp2)\n",
        "\n",
        "    if initialSubstitution != []:\n",
        "        tail1 = apply(tail1, initialSubstitution)\n",
        "        tail2 = apply(tail2, initialSubstitution)\n",
        "\n",
        "    remainingSubstitution = unify(tail1, tail2)\n",
        "    if not remainingSubstitution:\n",
        "        return []\n",
        "\n",
        "    return initialSubstitution + remainingSubstitution\n"
      ],
      "metadata": {
        "id": "5QPYlMfq7OVO"
      },
      "execution_count": 5,
      "outputs": []
    },
    {
      "cell_type": "code",
      "source": [
        "def main():\n",
        "    print(\"Enter the first expression\")\n",
        "    e1 = input()\n",
        "    print(\"Enter the second expression\")\n",
        "    e2 = input()\n",
        "    substitutions = unify(e1, e2)\n",
        "    print(\"The substitutions are:\")\n",
        "    print([' / '.join(substitution) for substitution in substitutions])"
      ],
      "metadata": {
        "id": "R4EMRawA7Ra8"
      },
      "execution_count": 6,
      "outputs": []
    },
    {
      "cell_type": "code",
      "source": [
        "\n",
        "\n",
        "main()\n",
        "\n"
      ],
      "metadata": {
        "colab": {
          "base_uri": "https://localhost:8080/"
        },
        "id": "VhFUaN9C7T77",
        "outputId": "3718668b-2180-4c50-c642-eddcca3face2"
      },
      "execution_count": 7,
      "outputs": [
        {
          "output_type": "stream",
          "name": "stdout",
          "text": [
            "Enter the first expression\n",
            "knows(f(x),y)\n",
            "Enter the second expression\n",
            "knows(j,John)\n",
            "The substitutions are:\n",
            "['f(x) / j', 'John / y']\n"
          ]
        }
      ]
    },
    {
      "cell_type": "code",
      "source": [
        "\n",
        "\n",
        "main()\n",
        "\n"
      ],
      "metadata": {
        "colab": {
          "base_uri": "https://localhost:8080/"
        },
        "id": "6mGcpEv-7XNz",
        "outputId": "500b8cce-a8ab-4120-ebf8-c2cc1ffa9153"
      },
      "execution_count": 8,
      "outputs": [
        {
          "output_type": "stream",
          "name": "stdout",
          "text": [
            "Enter the first expression\n",
            "teacher(x)\n",
            "Enter the second expression\n",
            "student(Y)\n",
            "Cannot be unified as the predicates do not match!\n",
            "The substitutions are:\n",
            "[]\n"
          ]
        }
      ]
    },
    {
      "cell_type": "code",
      "source": [
        "\n",
        "\n",
        "main()\n",
        "\n"
      ],
      "metadata": {
        "colab": {
          "base_uri": "https://localhost:8080/"
        },
        "id": "UaNwRo7G7ikz",
        "outputId": "d93dc441-7dbd-4980-dfc0-aca9ab9e284e"
      },
      "execution_count": 9,
      "outputs": [
        {
          "output_type": "stream",
          "name": "stdout",
          "text": [
            "Enter the first expression\n",
            "LIKE(a,y)\n",
            "Enter the second expression\n",
            "LIKE(k,g(x))\n",
            "The substitutions are:\n",
            "['k / a', 'g(x) / y']\n"
          ]
        }
      ]
    },
    {
      "cell_type": "code",
      "source": [
        "\n",
        "\n",
        "main()\n",
        "\n"
      ],
      "metadata": {
        "colab": {
          "base_uri": "https://localhost:8080/"
        },
        "id": "8CAbsCCL7pU2",
        "outputId": "0550dcc8-9b59-4d3c-c906-a1c9c36242b8"
      },
      "execution_count": 10,
      "outputs": [
        {
          "output_type": "stream",
          "name": "stdout",
          "text": [
            "Enter the first expression\n",
            "like(A,y)\n",
            "Enter the second expression\n",
            "like(K,g(x))\n",
            "A and K are constants. Cannot be unified\n",
            "The substitutions are:\n",
            "[]\n"
          ]
        }
      ]
    },
    {
      "cell_type": "code",
      "source": [],
      "metadata": {
        "id": "wMSDq24V7zz7"
      },
      "execution_count": null,
      "outputs": []
    }
  ]
}