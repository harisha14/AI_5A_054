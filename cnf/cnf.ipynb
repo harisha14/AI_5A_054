{
  "nbformat": 4,
  "nbformat_minor": 0,
  "metadata": {
    "colab": {
      "provenance": []
    },
    "kernelspec": {
      "name": "python3",
      "display_name": "Python 3"
    },
    "language_info": {
      "name": "python"
    }
  },
  "cells": [
    {
      "cell_type": "code",
      "execution_count": 1,
      "metadata": {
        "id": "RUMNzJZC-uzF"
      },
      "outputs": [],
      "source": [
        "\n",
        "\n",
        "import re\n",
        "\n",
        "def getAttributes(string):\n",
        "    expr = '\\([^)]+\\)'\n",
        "    matches = re.findall(expr, string)\n",
        "    return [m for m in str(matches) if m.isalpha()]\n",
        "\n",
        "def getPredicates(string):\n",
        "    expr = '[a-z~]+\\([A-Za-z,]+\\)'\n",
        "    return re.findall(expr, string)\n",
        "\n"
      ]
    },
    {
      "cell_type": "code",
      "source": [
        "def DeMorgan(sentence):\n",
        "    string = ''.join(list(sentence).copy())\n",
        "    string = string.replace('~~','')\n",
        "    flag = '[' in string\n",
        "    string = string.replace('~[','')\n",
        "    string = string.strip(']')\n",
        "    for predicate in getPredicates(string):\n",
        "        string = string.replace(predicate, f'~{predicate}')\n",
        "    s = list(string)\n",
        "    for i, c in enumerate(string):\n",
        "        if c == 'V':\n",
        "            s[i] = '^'\n",
        "        elif c == '^':\n",
        "            s[i] = 'V'\n",
        "    string = ''.join(s)    \n",
        "    string = string.replace('~~','')\n",
        "    return f'[{string}]' if flag else string\n"
      ],
      "metadata": {
        "id": "cNlz06Gd-yRG"
      },
      "execution_count": 2,
      "outputs": []
    },
    {
      "cell_type": "code",
      "source": [
        "def Skolemization(sentence):\n",
        "    SKOLEM_CONSTANTS = [f'{chr(c)}' for c in range(ord('A'), ord('Z')+1)]\n",
        "    statement = ''.join(list(sentence).copy())\n",
        "    matches = re.findall('[∀∃].', statement)\n",
        "    for match in matches[::-1]:\n",
        "        statement = statement.replace(match, '')\n",
        "        statements = re.findall('\\[\\[[^]]+\\]]', statement)\n",
        "        for s in statements:\n",
        "            statement = statement.replace(s, s[1:-1])\n",
        "        for predicate in getPredicates(statement):\n",
        "            attributes = getAttributes(predicate)\n",
        "            if ''.join(attributes).islower():\n",
        "                statement = statement.replace(match[1],SKOLEM_CONSTANTS.pop(0))\n",
        "            else:\n",
        "                aL = [a for a in attributes if a.islower()]\n",
        "                aU = [a for a in attributes if not a.islower()][0]\n",
        "                statement = statement.replace(aU, f'{SKOLEM_CONSTANTS.pop(0)}({aL[0] if len(aL) else match[1]})')\n",
        "    return statement\n"
      ],
      "metadata": {
        "id": "WleedeCH-2Pu"
      },
      "execution_count": 3,
      "outputs": []
    },
    {
      "cell_type": "code",
      "source": [
        "def fol_to_cnf(fol):\n",
        "    \n",
        "    statement = fol.replace(\"<=>\", \"_\")\n",
        "    while '_' in statement:\n",
        "        i = statement.index('_')\n",
        "        new_statement = '[' + statement[:i] + '=>' + statement[i+1:] + ']^['+ statement[i+1:] + '=>' + statement[:i] + ']'\n",
        "        statement = new_statement\n",
        "    statement = statement.replace(\"=>\", \"-\")\n",
        "    expr = '\\[([^]]+)\\]'\n",
        "    statements = re.findall(expr, statement)\n",
        "    for i, s in enumerate(statements):\n",
        "        if '[' in s and ']' not in s:\n",
        "            statements[i] += ']'\n",
        "    for s in statements:\n",
        "        statement = statement.replace(s, fol_to_cnf(s))\n",
        "    while '-' in statement:\n",
        "        i = statement.index('-')\n",
        "        br = statement.index('[') if '[' in statement else 0\n",
        "        new_statement = '~' + statement[br:i] + 'V' + statement[i+1:]\n",
        "        statement = statement[:br] + new_statement if br > 0 else new_statement\n",
        "    while '~∀' in statement:\n",
        "        i = statement.index('~∀')\n",
        "        statement = list(statement)\n",
        "        statement[i], statement[i+1], statement[i+2] = '∃', statement[i+2], '~'\n",
        "        statement = ''.join(statement)\n",
        "    while '~∃' in statement:\n",
        "        i = statement.index('~∃')\n",
        "        s = list(statement)\n",
        "        s[i], s[i+1], s[i+2] = '∀', s[i+2], '~'\n",
        "        statement = ''.join(s)\n",
        "    statement = statement.replace('~[∀','[~∀')\n",
        "    statement = statement.replace('~[∃','[~∃')\n",
        "    expr = '(~[∀V∃].)'\n",
        "    statements = re.findall(expr, statement)\n",
        "    for s in statements:\n",
        "        statement = statement.replace(s, fol_to_cnf(s))\n",
        "    expr = '~\\[[^]]+\\]'\n",
        "    statements = re.findall(expr, statement)\n",
        "    for s in statements:\n",
        "        statement = statement.replace(s, DeMorgan(s))\n",
        "    return statement\n"
      ],
      "metadata": {
        "id": "USdYwCNf-6EP"
      },
      "execution_count": 4,
      "outputs": []
    },
    {
      "cell_type": "code",
      "source": [
        "\n",
        "\n",
        "def main():\n",
        "    print(\"Enter FOL:\")\n",
        "    fol = input()\n",
        "    print(\"The CNF form of the given FOL is: \")\n",
        "    print(Skolemization(fol_to_cnf(fol)))\n",
        "\n"
      ],
      "metadata": {
        "id": "1nr7Ojml-7-I"
      },
      "execution_count": 5,
      "outputs": []
    },
    {
      "cell_type": "code",
      "source": [
        "main()\n"
      ],
      "metadata": {
        "colab": {
          "base_uri": "https://localhost:8080/"
        },
        "id": "ItC8APRb-9u9",
        "outputId": "60b000be-8a58-45f2-ad1f-22049c8d0440"
      },
      "execution_count": 6,
      "outputs": [
        {
          "output_type": "stream",
          "name": "stdout",
          "text": [
            "Enter FOL:\n",
            "∀x food(x) => likes(John, x)\n",
            "The CNF form of the given FOL is: \n",
            "~ food(A) V likes(John, A)\n"
          ]
        }
      ]
    },
    {
      "cell_type": "code",
      "source": [
        "main()\n"
      ],
      "metadata": {
        "colab": {
          "base_uri": "https://localhost:8080/"
        },
        "id": "HxxcKqki-_dT",
        "outputId": "7c96644b-1a06-4848-9053-bf6012edde1d"
      },
      "execution_count": 7,
      "outputs": [
        {
          "output_type": "stream",
          "name": "stdout",
          "text": [
            "Enter FOL:\n",
            "∀x[∃z[loves(x,z)]]\n",
            "The CNF form of the given FOL is: \n",
            "[loves(x,B(x))]\n"
          ]
        }
      ]
    },
    {
      "cell_type": "code",
      "source": [],
      "metadata": {
        "id": "H11_mwBT_Kuf"
      },
      "execution_count": null,
      "outputs": []
    }
  ]
}